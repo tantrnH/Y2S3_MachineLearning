{
  "cells": [
    {
      "cell_type": "markdown",
      "metadata": {
        "id": "67ySuxsSfula"
      },
      "source": [
        "# Imbalance class"
      ],
      "id": "67ySuxsSfula"
    },
    {
      "cell_type": "markdown",
      "source": [
        "# Exercise 1"
      ],
      "metadata": {
        "id": "K6L-C_7JgIKB"
      },
      "id": "K6L-C_7JgIKB"
    },
    {
      "cell_type": "code",
      "execution_count": 3,
      "metadata": {
        "id": "-zn3UrJlfule"
      },
      "outputs": [],
      "source": [
        "# Importing necessary libraries\n",
        "import numpy as np\n",
        "import pandas as pd\n"
      ],
      "id": "-zn3UrJlfule"
    },
    {
      "cell_type": "code",
      "execution_count": 4,
      "metadata": {
        "id": "3sF56PABfulg"
      },
      "outputs": [],
      "source": [
        "# https://www.kaggle.com/datasets/uciml/breast-cancer-wisconsin-data?resource=download\n",
        "\n",
        "df = pd.read_csv('https://archive.ics.uci.edu/ml/machine-learning-databases/breast-cancer-wisconsin/wdbc.data', header=None)"
      ],
      "id": "3sF56PABfulg"
    },
    {
      "cell_type": "code",
      "execution_count": 5,
      "metadata": {
        "id": "R6qzOpOwfulh"
      },
      "outputs": [],
      "source": [
        "# selects all rows and columns from the third column (indicating the features) and converting to a numpy array.\n",
        "# selects all rows of the second column (indicating the target variable) and converting to a numpy array\n",
        "\n",
        "X = df.loc[:, 2:].values\n",
        "y = df.loc[:, 1].values\n",
        "\n",
        "# X matrix has dimensions (n_samples, n_features) and y is a 1-dimensional vector of length n_samples."
      ],
      "id": "R6qzOpOwfulh"
    },
    {
      "cell_type": "code",
      "execution_count": 6,
      "metadata": {
        "id": "Or2OuGlzfuli",
        "colab": {
          "base_uri": "https://localhost:8080/"
        },
        "outputId": "c189806c-0570-479e-e295-588005d009df"
      },
      "outputs": [
        {
          "output_type": "execute_result",
          "data": {
            "text/plain": [
              "array([[1.799e+01, 1.038e+01, 1.228e+02, 1.001e+03, 1.184e-01, 2.776e-01,\n",
              "        3.001e-01, 1.471e-01, 2.419e-01, 7.871e-02, 1.095e+00, 9.053e-01,\n",
              "        8.589e+00, 1.534e+02, 6.399e-03, 4.904e-02, 5.373e-02, 1.587e-02,\n",
              "        3.003e-02, 6.193e-03, 2.538e+01, 1.733e+01, 1.846e+02, 2.019e+03,\n",
              "        1.622e-01, 6.656e-01, 7.119e-01, 2.654e-01, 4.601e-01, 1.189e-01],\n",
              "       [2.057e+01, 1.777e+01, 1.329e+02, 1.326e+03, 8.474e-02, 7.864e-02,\n",
              "        8.690e-02, 7.017e-02, 1.812e-01, 5.667e-02, 5.435e-01, 7.339e-01,\n",
              "        3.398e+00, 7.408e+01, 5.225e-03, 1.308e-02, 1.860e-02, 1.340e-02,\n",
              "        1.389e-02, 3.532e-03, 2.499e+01, 2.341e+01, 1.588e+02, 1.956e+03,\n",
              "        1.238e-01, 1.866e-01, 2.416e-01, 1.860e-01, 2.750e-01, 8.902e-02],\n",
              "       [1.969e+01, 2.125e+01, 1.300e+02, 1.203e+03, 1.096e-01, 1.599e-01,\n",
              "        1.974e-01, 1.279e-01, 2.069e-01, 5.999e-02, 7.456e-01, 7.869e-01,\n",
              "        4.585e+00, 9.403e+01, 6.150e-03, 4.006e-02, 3.832e-02, 2.058e-02,\n",
              "        2.250e-02, 4.571e-03, 2.357e+01, 2.553e+01, 1.525e+02, 1.709e+03,\n",
              "        1.444e-01, 4.245e-01, 4.504e-01, 2.430e-01, 3.613e-01, 8.758e-02],\n",
              "       [1.142e+01, 2.038e+01, 7.758e+01, 3.861e+02, 1.425e-01, 2.839e-01,\n",
              "        2.414e-01, 1.052e-01, 2.597e-01, 9.744e-02, 4.956e-01, 1.156e+00,\n",
              "        3.445e+00, 2.723e+01, 9.110e-03, 7.458e-02, 5.661e-02, 1.867e-02,\n",
              "        5.963e-02, 9.208e-03, 1.491e+01, 2.650e+01, 9.887e+01, 5.677e+02,\n",
              "        2.098e-01, 8.663e-01, 6.869e-01, 2.575e-01, 6.638e-01, 1.730e-01],\n",
              "       [2.029e+01, 1.434e+01, 1.351e+02, 1.297e+03, 1.003e-01, 1.328e-01,\n",
              "        1.980e-01, 1.043e-01, 1.809e-01, 5.883e-02, 7.572e-01, 7.813e-01,\n",
              "        5.438e+00, 9.444e+01, 1.149e-02, 2.461e-02, 5.688e-02, 1.885e-02,\n",
              "        1.756e-02, 5.115e-03, 2.254e+01, 1.667e+01, 1.522e+02, 1.575e+03,\n",
              "        1.374e-01, 2.050e-01, 4.000e-01, 1.625e-01, 2.364e-01, 7.678e-02]])"
            ]
          },
          "metadata": {},
          "execution_count": 6
        }
      ],
      "source": [
        "# 1) Data Loading and Initial Exploration\n",
        "# Load the breast cancer dataset from the UCI repository and extract the features (X) and target variable (y). Select the appropriate columns from the dataset for features and target, and explain why those columns are selected.\n",
        "\n",
        "# select the first five rows of the 'X' array\n",
        "# pandas manages the data frame\n",
        "\n",
        "X[:5]"
      ],
      "id": "Or2OuGlzfuli"
    },
    {
      "cell_type": "code",
      "execution_count": 7,
      "metadata": {
        "id": "7LvEmC_rfuli",
        "colab": {
          "base_uri": "https://localhost:8080/"
        },
        "outputId": "6513e7f7-b0de-4a57-dcfd-b239fada069f"
      },
      "outputs": [
        {
          "output_type": "execute_result",
          "data": {
            "text/plain": [
              "array(['M', 'M', 'M', 'M', 'M'], dtype=object)"
            ]
          },
          "metadata": {},
          "execution_count": 7
        }
      ],
      "source": [
        "# slice the first five elements from the y array\n",
        "# coloumn / target ==> malignant(M, canserous)/benign(B, non-cancerous)\n",
        "\n",
        "y[:5]"
      ],
      "id": "7LvEmC_rfuli"
    },
    {
      "cell_type": "code",
      "execution_count": 8,
      "metadata": {
        "id": "poi0_nc4fulj",
        "colab": {
          "base_uri": "https://localhost:8080/"
        },
        "outputId": "ab1af64f-eba4-49f9-fb75-539043751e0e"
      },
      "outputs": [
        {
          "output_type": "execute_result",
          "data": {
            "text/plain": [
              "array(['B', 'M'], dtype=object)"
            ]
          },
          "metadata": {},
          "execution_count": 8
        }
      ],
      "source": [
        "'''\n",
        "Importing the LabelEncoder class from the sklearn.preprocessing module\n",
        "Creating an instance of the LabelEncoder class and fitting it to the target variable y\n",
        "Printing the unique classes in the target variable\n",
        "'''\n",
        "# 2) Label Encoding\n",
        "# Encode the target variable y using LabelEncoder from sklearn.preprocessing. Print the unique classes after encoding and explain why label encoding is necessary for this dataset.\n",
        "# do labeling ==> use LableEncoder\n",
        "from sklearn.preprocessing import LabelEncoder\n",
        "\n",
        "le = LabelEncoder()\n",
        "\n",
        "# to fit our target, change to two classes benign(B) & malignant(M) ==> B = 0 ; M = 1\n",
        "y = le.fit_transform(y)\n",
        "\n",
        "le.classes_\n"
      ],
      "id": "poi0_nc4fulj"
    },
    {
      "cell_type": "markdown",
      "metadata": {
        "id": "Pr83olKnfulk"
      },
      "source": [
        "- Creating a new array X_imb by stacking vertically X elements where y equals 0 and X elements where y equals 1 up to the 40th element.\n",
        "- This results in a new X_imb array that is imbalanced, with many more examples where y is 0 than where y is 1.\n",
        "- Creating a new array y_imb by concatenating horizontally y elements where y equals 0 and y elements where y equals 1 up to the 40th element.\n",
        "- This results in a new y_imb array that is imbalanced, with many more examples where y is 0 than where y is 1."
      ],
      "id": "Pr83olKnfulk"
    },
    {
      "cell_type": "code",
      "execution_count": 19,
      "metadata": {
        "id": "mOMHLusqfulk"
      },
      "outputs": [],
      "source": [
        "# 3) Class Imbalance\n",
        "# Create an imbalanced dataset where there are more samples of class 0 (benign) than class 1 (malignant). Use the first 357 samples from class 0 and the first 40 samples from class 1 to create the new imbalanced dataset. Provide an explanation of how the class imbalance is introduced.\n",
        "\n",
        "# imb ==> imbalance\n",
        "# by stacking the elements with numpy ==> np.stack\n",
        "# X elements where y equals 0 and X elements where y equals 1 up to the 40th element.\n",
        "X_imb = np.vstack((X[y == 0], X[y == 1][:40]))\n",
        "\n",
        "y_imb = np.hstack((y[y == 0], y[y == 1][:40]))"
      ],
      "id": "mOMHLusqfulk"
    },
    {
      "cell_type": "markdown",
      "metadata": {
        "id": "ickfVc_Ffulk"
      },
      "source": [
        "- originally consisted of 357 benign tumors (class 0) and 212 malignant tumors (class 1)\n",
        "- took all 357 benign tumor samples and stacked them with the first 40 malignant samples to create a stark class imbalance\n",
        "-  to compute the accuracy of a model that always predicts the majority class (benign, class 0), we would achieve a prediction accuracy of approximately 90 percent:"
      ],
      "id": "ickfVc_Ffulk"
    },
    {
      "cell_type": "code",
      "execution_count": 20,
      "metadata": {
        "id": "-vstholzfulk",
        "colab": {
          "base_uri": "https://localhost:8080/"
        },
        "outputId": "6cd98f74-ea35-4563-cc47-40094c9a94d6"
      },
      "outputs": [
        {
          "output_type": "execute_result",
          "data": {
            "text/plain": [
              "np.float64(89.92443324937027)"
            ]
          },
          "metadata": {},
          "execution_count": 20
        }
      ],
      "source": [
        "# 4) Accuracy of Majority Class Model\n",
        "# Create a model that always predicts the majority class (class 0). Calculate and print the accuracy of this model on the imbalanced dataset you created in the previous step. Explain what the accuracy indicates about the model’s performance.\n",
        "\n",
        "# creates a numpy array with zeros of shape y_imb.shape[0] and assigns it to y_pred.\n",
        "# predict the class\n",
        "y_pred = np.zeros(y_imb.shape[0])\n",
        "\n",
        "# computes the mean accuracy of y_pred compared to y_imb. It multiplies the boolean array resulting from the comparison\n",
        "# by 100 and returns the result as a percentage.\n",
        "\n",
        "np.mean(y_pred == y_imb) * 100\n"
      ],
      "id": "-vstholzfulk"
    },
    {
      "cell_type": "code",
      "execution_count": 21,
      "metadata": {
        "id": "SD6v0Yh8full"
      },
      "outputs": [],
      "source": [
        "# resampling data involves randomly drawing samples from a dataset with replacement to create a new dataset\n",
        "# with a different distribution of values.\n",
        "\n",
        "from sklearn.utils import resample\n",
        "\n"
      ],
      "id": "SD6v0Yh8full"
    },
    {
      "cell_type": "code",
      "execution_count": 22,
      "metadata": {
        "id": "4VY0A0QGfull",
        "colab": {
          "base_uri": "https://localhost:8080/"
        },
        "outputId": "99ba07d9-18c6-47e4-fed8-217cf9aff19d"
      },
      "outputs": [
        {
          "output_type": "stream",
          "name": "stdout",
          "text": [
            "Number of class 1 samples before: 40\n"
          ]
        }
      ],
      "source": [
        "print('Number of class 1 samples before:', X_imb[y_imb == 1].shape[0])"
      ],
      "id": "4VY0A0QGfull"
    },
    {
      "cell_type": "markdown",
      "metadata": {
        "id": "ItaHT44Nfull"
      },
      "source": [
        "- dealing with highly unbalanced datasets is called resampling\n",
        "- consists of\n",
        "    - removing samples from the majority class (under-sampling)\n",
        "        - randomly removing observations from the majority class to prevent its signal from dominating the learning algorithm. The most common heuristic for doing so is resampling without replacement\n",
        "        - First, separate observations from each class into different datasets.\n",
        "        - Next, resample the majority class without replacement, setting the number of samples to match that of the minority class.\n",
        "        - Finally, combine the down-sampled majority class dataset with the original minority class dataset.\n",
        "    - adding more examples from the minority class (over-sampling or up-sampling) - can cause overfitting\n",
        "        - First separate observations from each class into different datasets.\n",
        "        - Next, resample the minority class with replacement, setting the number of samples to match that of the majority class.\n",
        "        - Finally, combine the up-sampled minority class dataset with the original majority class dataset.\n",
        "\n",
        "![image.png](attachment:image.png)"
      ],
      "id": "ItaHT44Nfull"
    },
    {
      "cell_type": "markdown",
      "metadata": {
        "id": "_fxkwJx6fulm"
      },
      "source": [
        "## Oversampling"
      ],
      "id": "_fxkwJx6fulm"
    },
    {
      "cell_type": "code",
      "execution_count": 24,
      "metadata": {
        "id": "apF0Iq-xfulm"
      },
      "outputs": [],
      "source": [
        "# 5) Oversampling\n",
        "# Perform oversampling on the minority class (class 1) so that the number of samples for both classes becomes equal. Use resample from sklearn.utils to perform this operation. Print the number of samples of class 1 before and after oversampling, and explain the effect of oversampling on the dataset.\n",
        "\n",
        "# resamples the minority class (y_imb == 1) with replacement to have the same number\n",
        "# of samples as the majority class (y_imb == 0).\n",
        "# random_state is a parameter (resample parameter)\n",
        "\n",
        "X_upsampled, y_upsampled = resample(X_imb[y_imb == 1], y_imb[y_imb == 1],\n",
        "\n",
        "                                    replace=True, #sample with replacement, by default it is FALSE\n",
        "\n",
        "                                    n_samples=X_imb[y_imb == 0].shape[0], # to match majority class\n",
        "\n",
        "                                    random_state=123)"
      ],
      "id": "apF0Iq-xfulm"
    },
    {
      "cell_type": "code",
      "execution_count": 25,
      "metadata": {
        "id": "ADhhAhRlfulm",
        "colab": {
          "base_uri": "https://localhost:8080/"
        },
        "outputId": "e219a8be-07f2-46ed-d8f1-2eb57c20eb87"
      },
      "outputs": [
        {
          "output_type": "stream",
          "name": "stdout",
          "text": [
            "Number of class 1 samples after: 357\n"
          ]
        }
      ],
      "source": [
        "# 6) Model Accuracy After Upsampling\n",
        "# After performing oversampling, create a model that always predicts the majority class (class 0). Calculate and print the accuracy of this model on the upsampled dataset. Explain what you observe about the accuracy after balancing the dataset with oversampling.\n",
        "\n",
        "# prints the number of samples after upsampling the minority class.\n",
        "\n",
        "print('Number of class 1 samples after:', X_upsampled.shape[0])"
      ],
      "id": "ADhhAhRlfulm"
    },
    {
      "cell_type": "code",
      "execution_count": 26,
      "metadata": {
        "id": "76_DcZWFfulm"
      },
      "outputs": [],
      "source": [
        "# concatenate(combine) the upsampled minority class with the original majority class.\n",
        "# to observe the unbalance class\n",
        "\n",
        "x_bal = np.vstack((X[y == 0], X_upsampled))\n",
        "\n",
        "y_bal = np.hstack((y[y == 0], y_upsampled))"
      ],
      "id": "76_DcZWFfulm"
    },
    {
      "cell_type": "code",
      "execution_count": 27,
      "metadata": {
        "id": "5dEQZh_Yfulm",
        "colab": {
          "base_uri": "https://localhost:8080/"
        },
        "outputId": "a20ab66a-f3a3-4ae1-e024-a238796a29f3"
      },
      "outputs": [
        {
          "output_type": "execute_result",
          "data": {
            "text/plain": [
              "np.float64(50.0)"
            ]
          },
          "metadata": {},
          "execution_count": 27
        }
      ],
      "source": [
        "'''\n",
        "initializes y_pred to an array of zeros with the length equal to the number of samples\n",
        "in the concatenated dataset (y_bal). Then it calculates the percentage of correct predictions\n",
        "by comparing y_pred and y_bal.\n",
        "'''\n",
        "y_pred = np.zeros(y_bal.shape[0])\n",
        "\n",
        "np.mean(y_pred == y_bal) * 100\n"
      ],
      "id": "5dEQZh_Yfulm"
    },
    {
      "cell_type": "markdown",
      "metadata": {
        "id": "U9aD3YQkfulm"
      },
      "source": [
        "## Undersampling"
      ],
      "id": "U9aD3YQkfulm"
    },
    {
      "cell_type": "code",
      "execution_count": 28,
      "metadata": {
        "id": "WnI4F2X2fulm",
        "colab": {
          "base_uri": "https://localhost:8080/"
        },
        "outputId": "b850cf68-0d76-451c-e21b-babb95fb5921"
      },
      "outputs": [
        {
          "output_type": "execute_result",
          "data": {
            "text/plain": [
              "np.float64(89.92443324937027)"
            ]
          },
          "metadata": {},
          "execution_count": 28
        }
      ],
      "source": [
        "'''\n",
        "This code initializes an array of zeros named 'y_pred' with the same shape as the input array 'y_imb'.\n",
        "The mean of the comparison between 'y_pred' and 'y_imb' is calculated and multiplied by 100.\n",
        "This gives the percentage of times 'y_pred' is equal to 'y_imb'.\n",
        "'''\n",
        "# 7) Undersampling\n",
        "# Perform undersampling of the majority class (class 0) so that the number of samples in both classes is equal. Use resample to downsample class 0 and combine it with class 1 to create the balanced dataset. Print the number of class 0 samples before and after undersampling and explain the process.\n",
        "\n",
        "\n",
        "y_pred = np.zeros(y_imb.shape[0])\n",
        "\n",
        "np.mean(y_pred == y_imb) * 100\n"
      ],
      "id": "WnI4F2X2fulm"
    },
    {
      "cell_type": "code",
      "execution_count": 29,
      "metadata": {
        "id": "1PplkStjfulm"
      },
      "outputs": [],
      "source": [
        "X_downsampled, y_downsampled = resample(X_imb[y_imb == 0], y_imb[y_imb == 0],\n",
        "\n",
        "                                    replace=False, #sample without replacement\n",
        "\n",
        "                                    n_samples=X_imb[y_imb == 1].shape[0], # to match minority class\n",
        "\n",
        "                                    random_state=123)"
      ],
      "id": "1PplkStjfulm"
    },
    {
      "cell_type": "code",
      "execution_count": 30,
      "metadata": {
        "id": "XpYdupZXfuln",
        "colab": {
          "base_uri": "https://localhost:8080/"
        },
        "outputId": "162c1506-f157-4588-e5e0-b3508c57d280"
      },
      "outputs": [
        {
          "output_type": "stream",
          "name": "stdout",
          "text": [
            "Number of class 0 sample after: (40, 30)\n"
          ]
        }
      ],
      "source": [
        "print('Number of class 0 sample after:', X_downsampled.shape)"
      ],
      "id": "XpYdupZXfuln"
    },
    {
      "cell_type": "code",
      "execution_count": 31,
      "metadata": {
        "id": "gceqpmp8fuln"
      },
      "outputs": [],
      "source": [
        "X_bal2 = np.vstack((X[y == 1][:40], X_downsampled))\n",
        "\n",
        "y_bal2 = np.hstack((y[y == 1][:40], y_downsampled))"
      ],
      "id": "gceqpmp8fuln"
    },
    {
      "cell_type": "code",
      "execution_count": 32,
      "metadata": {
        "id": "PZCOu-3qfuln",
        "colab": {
          "base_uri": "https://localhost:8080/"
        },
        "outputId": "0644618d-214e-4619-b2f6-2c42ea2b5da2"
      },
      "outputs": [
        {
          "output_type": "execute_result",
          "data": {
            "text/plain": [
              "array([1, 1, 1, 1, 1, 1, 1, 1, 1, 1, 1, 1, 1, 1, 1, 1, 1, 1, 1, 1, 1, 1,\n",
              "       1, 1, 1, 1, 1, 1, 1, 1, 1, 1, 1, 1, 1, 1, 1, 1, 1, 1, 0, 0, 0, 0,\n",
              "       0, 0, 0, 0, 0, 0, 0, 0, 0, 0, 0, 0, 0, 0, 0, 0, 0, 0, 0, 0, 0, 0,\n",
              "       0, 0, 0, 0, 0, 0, 0, 0, 0, 0, 0, 0, 0, 0])"
            ]
          },
          "metadata": {},
          "execution_count": 32
        }
      ],
      "source": [
        "y_bal2"
      ],
      "id": "PZCOu-3qfuln"
    },
    {
      "cell_type": "code",
      "execution_count": 33,
      "metadata": {
        "id": "ZHRQR9Myfuln",
        "colab": {
          "base_uri": "https://localhost:8080/"
        },
        "outputId": "57dc1494-eb77-4d28-eeba-f610e7375619"
      },
      "outputs": [
        {
          "output_type": "execute_result",
          "data": {
            "text/plain": [
              "np.float64(50.0)"
            ]
          },
          "metadata": {},
          "execution_count": 33
        }
      ],
      "source": [
        "# 8) Model Accuracy After Downsampling\n",
        "# After performing undersampling, create a model that always predicts the majority class (class 0). Calculate and print the accuracy of this model on the downsampled dataset. Explain what you observe about the accuracy after balancing the dataset with undersampling.\n",
        "\n",
        "y_pred = np.zeros(y_bal2.shape[0])\n",
        "\n",
        "np.mean(y_pred == y_bal2) * 100"
      ],
      "id": "ZHRQR9Myfuln"
    },
    {
      "cell_type": "markdown",
      "metadata": {
        "id": "8jFXJwjYfuln"
      },
      "source": [
        "# Exercise 2"
      ],
      "id": "8jFXJwjYfuln"
    },
    {
      "cell_type": "code",
      "source": [
        "import numpy as np\n",
        "\n",
        "from sklearn.datasets import load_breast_cancer\n",
        "from sklearn.utils import resample\n",
        "from sklearn.model_selection import train_test_split\n",
        "from sklearn.linear_model import LogisticRegression\n",
        "from sklearn.metrics import accuracy_score\n",
        "from sklearn.preprocessing import StandardScaler"
      ],
      "metadata": {
        "id": "vC1mcdeDRLca"
      },
      "id": "vC1mcdeDRLca",
      "execution_count": 35,
      "outputs": []
    },
    {
      "cell_type": "code",
      "source": [
        "# Load the breast cancer Wisconsin dataset\n",
        "data = load_breast_cancer()"
      ],
      "metadata": {
        "id": "BZCN53AwSOwA"
      },
      "id": "BZCN53AwSOwA",
      "execution_count": 37,
      "outputs": []
    },
    {
      "cell_type": "code",
      "source": [
        "# Split the data into features and labels\n",
        "\n",
        "X, y = data.data, data.target"
      ],
      "metadata": {
        "id": "z3bATvwiSOyo"
      },
      "id": "z3bATvwiSOyo",
      "execution_count": 38,
      "outputs": []
    },
    {
      "cell_type": "code",
      "source": [
        "'''\n",
        "Create an imbalanced dataset by randomly sampling 100 instances from the majority class (label 0) and\n",
        "keeping all instances from the minority class (label 1)\n",
        "'''\n",
        "# Create an imbalanced dataset by randomly sampling 100 instances from the majority class (label 0) and\n",
        "# keeping all instances from the minority class (label 1)\n",
        "\n",
        "X_imb = np.vstack((X[y == 0][:100], X[y == 1]))\n",
        "\n",
        "y_imb = np.hstack((y[y == 0][:100], y[y == 1]))\n"
      ],
      "metadata": {
        "id": "CT5gq45FSO1d"
      },
      "id": "CT5gq45FSO1d",
      "execution_count": 39,
      "outputs": []
    },
    {
      "cell_type": "code",
      "source": [
        "# Now, let's ensure that we create a balanced dataset using resampling\n",
        "\n",
        "# Upsample the minority(less) class (label 1) to match the majority(more) class (label 0)\n",
        "\n",
        "X_0 = X_imb[y_imb == 0]\n",
        "\n",
        "y_0 = y_imb[y_imb == 0]\n",
        "\n",
        "X_1 = X_imb[y_imb == 1]\n",
        "\n",
        "y_1 = y_imb[y_imb == 1]\n"
      ],
      "metadata": {
        "id": "11egXJWLSO4M"
      },
      "id": "11egXJWLSO4M",
      "execution_count": 41,
      "outputs": []
    },
    {
      "cell_type": "code",
      "source": [
        "# Upsample the minority class (class 1) to have the same number of samples as the majority class (class 0)\n",
        "X_1_upsampled, y_1_upsampled = resample(X_1, y_1,\n",
        "                                        replace=True,\n",
        "                                        n_samples=X_0.shape[0],\n",
        "                                        random_state=123)"
      ],
      "metadata": {
        "id": "6XsWd4YNSO6T"
      },
      "id": "6XsWd4YNSO6T",
      "execution_count": 43,
      "outputs": []
    },
    {
      "cell_type": "code",
      "source": [
        "# Combine the majority and upsampled minority class\n",
        "\n",
        "X_bal = np.vstack((X_0, X_1_upsampled))\n",
        "\n",
        "y_bal = np.hstack((y_0, y_1_upsampled))"
      ],
      "metadata": {
        "id": "Y5jBlyStSO86"
      },
      "id": "Y5jBlyStSO86",
      "execution_count": 44,
      "outputs": []
    },
    {
      "cell_type": "code",
      "source": [
        "# Split the balanced data into training and testing sets using a 70/30 split\n",
        "\n",
        "X_train, X_test, y_train, y_test = train_test_split(X_bal,\n",
        "                                                    y_bal,\n",
        "                                                    test_size=0.3,\n",
        "                                                    random_state=123)\n"
      ],
      "metadata": {
        "id": "EJWvZhNzSmBe"
      },
      "id": "EJWvZhNzSmBe",
      "execution_count": 46,
      "outputs": []
    },
    {
      "cell_type": "code",
      "source": [
        "# Scale the features (standardize them to have mean 0 and variance 1)\n",
        "\n",
        "scaler = StandardScaler()\n",
        "\n",
        "X_train_scaled = scaler.fit_transform(X_train)\n",
        "\n",
        "X_test_scaled = scaler.transform(X_test)\n"
      ],
      "metadata": {
        "id": "aodyj3xYSmEo"
      },
      "id": "aodyj3xYSmEo",
      "execution_count": 48,
      "outputs": []
    },
    {
      "cell_type": "code",
      "source": [
        "# Train a logistic regression model on the balanced data and test it on the testing set\n",
        "\n",
        "clf_bal = LogisticRegression(random_state=123, max_iter=10000)  # Increase max_iter if needed, max_iter == maximum iteration also a parameter\n",
        "\n",
        "clf_bal.fit(X_train_scaled, y_train)\n",
        "\n",
        "y_pred_bal = clf_bal.predict(X_test_scaled)\n"
      ],
      "metadata": {
        "id": "W7M0C_ShSmHz"
      },
      "id": "W7M0C_ShSmHz",
      "execution_count": 50,
      "outputs": []
    },
    {
      "cell_type": "code",
      "source": [
        "# Compare with the imbalanced data model, also scaling the data\n",
        "\n",
        "X_imb_scaled = scaler.fit_transform(X_imb)\n",
        "\n",
        "X_test_scaled = scaler.transform(X_test)\n"
      ],
      "metadata": {
        "id": "HXHuRBCESmKF"
      },
      "id": "HXHuRBCESmKF",
      "execution_count": 51,
      "outputs": []
    },
    {
      "cell_type": "code",
      "source": [
        "clf_imb = LogisticRegression(random_state=123, max_iter=10000)  # Increase max_iter if needed\n",
        "\n",
        "clf_imb.fit(X_imb_scaled, y_imb)\n",
        "\n",
        "y_pred_imb = clf_imb.predict(X_test_scaled)\n"
      ],
      "metadata": {
        "id": "VOvbOVfmSvZd"
      },
      "id": "VOvbOVfmSvZd",
      "execution_count": 52,
      "outputs": []
    },
    {
      "cell_type": "code",
      "source": [
        "# Print the accuracy scores\n",
        "\n",
        "print(\"Accuracy score (balanced data):\", accuracy_score(y_test, y_pred_bal))\n",
        "\n",
        "print(\"Accuracy score (imbalanced data):\", accuracy_score(y_test, y_pred_imb))\n"
      ],
      "metadata": {
        "id": "JhHvPMniSvb3",
        "colab": {
          "base_uri": "https://localhost:8080/"
        },
        "outputId": "c8b6f636-7649-41e1-e0d9-c4c6f5abcb1b"
      },
      "id": "JhHvPMniSvb3",
      "execution_count": 53,
      "outputs": [
        {
          "output_type": "stream",
          "name": "stdout",
          "text": [
            "Accuracy score (balanced data): 0.95\n",
            "Accuracy score (imbalanced data): 0.9666666666666667\n"
          ]
        }
      ]
    }
  ],
  "metadata": {
    "kernelspec": {
      "display_name": "Python 3",
      "language": "python",
      "name": "python3"
    },
    "language_info": {
      "codemirror_mode": {
        "name": "ipython",
        "version": 3
      },
      "file_extension": ".py",
      "mimetype": "text/x-python",
      "name": "python",
      "nbconvert_exporter": "python",
      "pygments_lexer": "ipython3",
      "version": "3.8.5"
    },
    "colab": {
      "provenance": []
    }
  },
  "nbformat": 4,
  "nbformat_minor": 5
}