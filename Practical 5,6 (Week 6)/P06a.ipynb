{
  "cells": [
    {
      "cell_type": "markdown",
      "id": "acc4f04e",
      "metadata": {
        "id": "acc4f04e"
      },
      "source": [
        "#### Data explanation :\n",
        "Here lable is image of Number like 1, 2, 3, 4, 5, 6, 7, 8, 9, 0 pixel = 28 * 28 = 784 so each pixel store in column so 784 column and 1 lable column that is represent the number\n",
        "in picture.\n",
        "\n",
        "We shall use the train.csv dataset downloaded from\n",
        "https://www.kaggle.com/competitions/digit-recognizer/data?select=train.csv'"
      ]
    },
    {
      "cell_type": "code",
      "execution_count": 4,
      "id": "6040f19c",
      "metadata": {
        "id": "6040f19c"
      },
      "outputs": [],
      "source": [
        "# Import the libraries\n",
        "import pandas as pd\n",
        "import plotly as pt\n",
        "import matplotlib.pyplot as plt"
      ]
    },
    {
      "cell_type": "code",
      "source": [
        "from google.colab import drive\n",
        "drive.mount('/content/drive')"
      ],
      "metadata": {
        "colab": {
          "base_uri": "https://localhost:8080/"
        },
        "id": "eAFNmymgnZkE",
        "outputId": "aff9d58d-e2dd-4037-ab4d-f3a733735ff9"
      },
      "id": "eAFNmymgnZkE",
      "execution_count": 15,
      "outputs": [
        {
          "output_type": "stream",
          "name": "stdout",
          "text": [
            "Drive already mounted at /content/drive; to attempt to forcibly remount, call drive.mount(\"/content/drive\", force_remount=True).\n"
          ]
        }
      ]
    },
    {
      "cell_type": "code",
      "source": [
        "data = pd.read_csv(\"/content/drive/MyDrive/SCHOOL/Y2SEM3/Machine Learning/Practical/Digit_recogniser_train.csv\")"
      ],
      "metadata": {
        "id": "i2TZYhYRoAx5"
      },
      "id": "i2TZYhYRoAx5",
      "execution_count": 16,
      "outputs": []
    },
    {
      "cell_type": "code",
      "execution_count": 17,
      "id": "d081c4ad",
      "metadata": {
        "id": "d081c4ad",
        "colab": {
          "base_uri": "https://localhost:8080/",
          "height": 236
        },
        "outputId": "6d50b7eb-bbe8-4f9d-b3e7-9daf3f6952b3"
      },
      "outputs": [
        {
          "output_type": "display_data",
          "data": {
            "text/plain": [
              "   label  pixel0  pixel1  pixel2  pixel3  pixel4  pixel5  pixel6  pixel7  \\\n",
              "0      1       0       0       0       0       0       0       0       0   \n",
              "1      0       0       0       0       0       0       0       0       0   \n",
              "2      1       0       0       0       0       0       0       0       0   \n",
              "3      4       0       0       0       0       0       0       0       0   \n",
              "4      0       0       0       0       0       0       0       0       0   \n",
              "\n",
              "   pixel8  ...  pixel774  pixel775  pixel776  pixel777  pixel778  pixel779  \\\n",
              "0       0  ...         0         0         0         0         0         0   \n",
              "1       0  ...         0         0         0         0         0         0   \n",
              "2       0  ...         0         0         0         0         0         0   \n",
              "3       0  ...         0         0         0         0         0         0   \n",
              "4       0  ...         0         0         0         0         0         0   \n",
              "\n",
              "   pixel780  pixel781  pixel782  pixel783  \n",
              "0         0         0         0         0  \n",
              "1         0         0         0         0  \n",
              "2         0         0         0         0  \n",
              "3         0         0         0         0  \n",
              "4         0         0         0         0  \n",
              "\n",
              "[5 rows x 785 columns]"
            ],
            "text/html": [
              "\n",
              "  <div id=\"df-be7b7bef-3d5f-41f9-92dd-49875a787802\" class=\"colab-df-container\">\n",
              "    <div>\n",
              "<style scoped>\n",
              "    .dataframe tbody tr th:only-of-type {\n",
              "        vertical-align: middle;\n",
              "    }\n",
              "\n",
              "    .dataframe tbody tr th {\n",
              "        vertical-align: top;\n",
              "    }\n",
              "\n",
              "    .dataframe thead th {\n",
              "        text-align: right;\n",
              "    }\n",
              "</style>\n",
              "<table border=\"1\" class=\"dataframe\">\n",
              "  <thead>\n",
              "    <tr style=\"text-align: right;\">\n",
              "      <th></th>\n",
              "      <th>label</th>\n",
              "      <th>pixel0</th>\n",
              "      <th>pixel1</th>\n",
              "      <th>pixel2</th>\n",
              "      <th>pixel3</th>\n",
              "      <th>pixel4</th>\n",
              "      <th>pixel5</th>\n",
              "      <th>pixel6</th>\n",
              "      <th>pixel7</th>\n",
              "      <th>pixel8</th>\n",
              "      <th>...</th>\n",
              "      <th>pixel774</th>\n",
              "      <th>pixel775</th>\n",
              "      <th>pixel776</th>\n",
              "      <th>pixel777</th>\n",
              "      <th>pixel778</th>\n",
              "      <th>pixel779</th>\n",
              "      <th>pixel780</th>\n",
              "      <th>pixel781</th>\n",
              "      <th>pixel782</th>\n",
              "      <th>pixel783</th>\n",
              "    </tr>\n",
              "  </thead>\n",
              "  <tbody>\n",
              "    <tr>\n",
              "      <th>0</th>\n",
              "      <td>1</td>\n",
              "      <td>0</td>\n",
              "      <td>0</td>\n",
              "      <td>0</td>\n",
              "      <td>0</td>\n",
              "      <td>0</td>\n",
              "      <td>0</td>\n",
              "      <td>0</td>\n",
              "      <td>0</td>\n",
              "      <td>0</td>\n",
              "      <td>...</td>\n",
              "      <td>0</td>\n",
              "      <td>0</td>\n",
              "      <td>0</td>\n",
              "      <td>0</td>\n",
              "      <td>0</td>\n",
              "      <td>0</td>\n",
              "      <td>0</td>\n",
              "      <td>0</td>\n",
              "      <td>0</td>\n",
              "      <td>0</td>\n",
              "    </tr>\n",
              "    <tr>\n",
              "      <th>1</th>\n",
              "      <td>0</td>\n",
              "      <td>0</td>\n",
              "      <td>0</td>\n",
              "      <td>0</td>\n",
              "      <td>0</td>\n",
              "      <td>0</td>\n",
              "      <td>0</td>\n",
              "      <td>0</td>\n",
              "      <td>0</td>\n",
              "      <td>0</td>\n",
              "      <td>...</td>\n",
              "      <td>0</td>\n",
              "      <td>0</td>\n",
              "      <td>0</td>\n",
              "      <td>0</td>\n",
              "      <td>0</td>\n",
              "      <td>0</td>\n",
              "      <td>0</td>\n",
              "      <td>0</td>\n",
              "      <td>0</td>\n",
              "      <td>0</td>\n",
              "    </tr>\n",
              "    <tr>\n",
              "      <th>2</th>\n",
              "      <td>1</td>\n",
              "      <td>0</td>\n",
              "      <td>0</td>\n",
              "      <td>0</td>\n",
              "      <td>0</td>\n",
              "      <td>0</td>\n",
              "      <td>0</td>\n",
              "      <td>0</td>\n",
              "      <td>0</td>\n",
              "      <td>0</td>\n",
              "      <td>...</td>\n",
              "      <td>0</td>\n",
              "      <td>0</td>\n",
              "      <td>0</td>\n",
              "      <td>0</td>\n",
              "      <td>0</td>\n",
              "      <td>0</td>\n",
              "      <td>0</td>\n",
              "      <td>0</td>\n",
              "      <td>0</td>\n",
              "      <td>0</td>\n",
              "    </tr>\n",
              "    <tr>\n",
              "      <th>3</th>\n",
              "      <td>4</td>\n",
              "      <td>0</td>\n",
              "      <td>0</td>\n",
              "      <td>0</td>\n",
              "      <td>0</td>\n",
              "      <td>0</td>\n",
              "      <td>0</td>\n",
              "      <td>0</td>\n",
              "      <td>0</td>\n",
              "      <td>0</td>\n",
              "      <td>...</td>\n",
              "      <td>0</td>\n",
              "      <td>0</td>\n",
              "      <td>0</td>\n",
              "      <td>0</td>\n",
              "      <td>0</td>\n",
              "      <td>0</td>\n",
              "      <td>0</td>\n",
              "      <td>0</td>\n",
              "      <td>0</td>\n",
              "      <td>0</td>\n",
              "    </tr>\n",
              "    <tr>\n",
              "      <th>4</th>\n",
              "      <td>0</td>\n",
              "      <td>0</td>\n",
              "      <td>0</td>\n",
              "      <td>0</td>\n",
              "      <td>0</td>\n",
              "      <td>0</td>\n",
              "      <td>0</td>\n",
              "      <td>0</td>\n",
              "      <td>0</td>\n",
              "      <td>0</td>\n",
              "      <td>...</td>\n",
              "      <td>0</td>\n",
              "      <td>0</td>\n",
              "      <td>0</td>\n",
              "      <td>0</td>\n",
              "      <td>0</td>\n",
              "      <td>0</td>\n",
              "      <td>0</td>\n",
              "      <td>0</td>\n",
              "      <td>0</td>\n",
              "      <td>0</td>\n",
              "    </tr>\n",
              "  </tbody>\n",
              "</table>\n",
              "<p>5 rows × 785 columns</p>\n",
              "</div>\n",
              "    <div class=\"colab-df-buttons\">\n",
              "\n",
              "  <div class=\"colab-df-container\">\n",
              "    <button class=\"colab-df-convert\" onclick=\"convertToInteractive('df-be7b7bef-3d5f-41f9-92dd-49875a787802')\"\n",
              "            title=\"Convert this dataframe to an interactive table.\"\n",
              "            style=\"display:none;\">\n",
              "\n",
              "  <svg xmlns=\"http://www.w3.org/2000/svg\" height=\"24px\" viewBox=\"0 -960 960 960\">\n",
              "    <path d=\"M120-120v-720h720v720H120Zm60-500h600v-160H180v160Zm220 220h160v-160H400v160Zm0 220h160v-160H400v160ZM180-400h160v-160H180v160Zm440 0h160v-160H620v160ZM180-180h160v-160H180v160Zm440 0h160v-160H620v160Z\"/>\n",
              "  </svg>\n",
              "    </button>\n",
              "\n",
              "  <style>\n",
              "    .colab-df-container {\n",
              "      display:flex;\n",
              "      gap: 12px;\n",
              "    }\n",
              "\n",
              "    .colab-df-convert {\n",
              "      background-color: #E8F0FE;\n",
              "      border: none;\n",
              "      border-radius: 50%;\n",
              "      cursor: pointer;\n",
              "      display: none;\n",
              "      fill: #1967D2;\n",
              "      height: 32px;\n",
              "      padding: 0 0 0 0;\n",
              "      width: 32px;\n",
              "    }\n",
              "\n",
              "    .colab-df-convert:hover {\n",
              "      background-color: #E2EBFA;\n",
              "      box-shadow: 0px 1px 2px rgba(60, 64, 67, 0.3), 0px 1px 3px 1px rgba(60, 64, 67, 0.15);\n",
              "      fill: #174EA6;\n",
              "    }\n",
              "\n",
              "    .colab-df-buttons div {\n",
              "      margin-bottom: 4px;\n",
              "    }\n",
              "\n",
              "    [theme=dark] .colab-df-convert {\n",
              "      background-color: #3B4455;\n",
              "      fill: #D2E3FC;\n",
              "    }\n",
              "\n",
              "    [theme=dark] .colab-df-convert:hover {\n",
              "      background-color: #434B5C;\n",
              "      box-shadow: 0px 1px 3px 1px rgba(0, 0, 0, 0.15);\n",
              "      filter: drop-shadow(0px 1px 2px rgba(0, 0, 0, 0.3));\n",
              "      fill: #FFFFFF;\n",
              "    }\n",
              "  </style>\n",
              "\n",
              "    <script>\n",
              "      const buttonEl =\n",
              "        document.querySelector('#df-be7b7bef-3d5f-41f9-92dd-49875a787802 button.colab-df-convert');\n",
              "      buttonEl.style.display =\n",
              "        google.colab.kernel.accessAllowed ? 'block' : 'none';\n",
              "\n",
              "      async function convertToInteractive(key) {\n",
              "        const element = document.querySelector('#df-be7b7bef-3d5f-41f9-92dd-49875a787802');\n",
              "        const dataTable =\n",
              "          await google.colab.kernel.invokeFunction('convertToInteractive',\n",
              "                                                    [key], {});\n",
              "        if (!dataTable) return;\n",
              "\n",
              "        const docLinkHtml = 'Like what you see? Visit the ' +\n",
              "          '<a target=\"_blank\" href=https://colab.research.google.com/notebooks/data_table.ipynb>data table notebook</a>'\n",
              "          + ' to learn more about interactive tables.';\n",
              "        element.innerHTML = '';\n",
              "        dataTable['output_type'] = 'display_data';\n",
              "        await google.colab.output.renderOutput(dataTable, element);\n",
              "        const docLink = document.createElement('div');\n",
              "        docLink.innerHTML = docLinkHtml;\n",
              "        element.appendChild(docLink);\n",
              "      }\n",
              "    </script>\n",
              "  </div>\n",
              "\n",
              "\n",
              "    <div id=\"df-0914ae12-9441-4753-a1cb-b3adfc54bd8c\">\n",
              "      <button class=\"colab-df-quickchart\" onclick=\"quickchart('df-0914ae12-9441-4753-a1cb-b3adfc54bd8c')\"\n",
              "                title=\"Suggest charts\"\n",
              "                style=\"display:none;\">\n",
              "\n",
              "<svg xmlns=\"http://www.w3.org/2000/svg\" height=\"24px\"viewBox=\"0 0 24 24\"\n",
              "     width=\"24px\">\n",
              "    <g>\n",
              "        <path d=\"M19 3H5c-1.1 0-2 .9-2 2v14c0 1.1.9 2 2 2h14c1.1 0 2-.9 2-2V5c0-1.1-.9-2-2-2zM9 17H7v-7h2v7zm4 0h-2V7h2v10zm4 0h-2v-4h2v4z\"/>\n",
              "    </g>\n",
              "</svg>\n",
              "      </button>\n",
              "\n",
              "<style>\n",
              "  .colab-df-quickchart {\n",
              "      --bg-color: #E8F0FE;\n",
              "      --fill-color: #1967D2;\n",
              "      --hover-bg-color: #E2EBFA;\n",
              "      --hover-fill-color: #174EA6;\n",
              "      --disabled-fill-color: #AAA;\n",
              "      --disabled-bg-color: #DDD;\n",
              "  }\n",
              "\n",
              "  [theme=dark] .colab-df-quickchart {\n",
              "      --bg-color: #3B4455;\n",
              "      --fill-color: #D2E3FC;\n",
              "      --hover-bg-color: #434B5C;\n",
              "      --hover-fill-color: #FFFFFF;\n",
              "      --disabled-bg-color: #3B4455;\n",
              "      --disabled-fill-color: #666;\n",
              "  }\n",
              "\n",
              "  .colab-df-quickchart {\n",
              "    background-color: var(--bg-color);\n",
              "    border: none;\n",
              "    border-radius: 50%;\n",
              "    cursor: pointer;\n",
              "    display: none;\n",
              "    fill: var(--fill-color);\n",
              "    height: 32px;\n",
              "    padding: 0;\n",
              "    width: 32px;\n",
              "  }\n",
              "\n",
              "  .colab-df-quickchart:hover {\n",
              "    background-color: var(--hover-bg-color);\n",
              "    box-shadow: 0 1px 2px rgba(60, 64, 67, 0.3), 0 1px 3px 1px rgba(60, 64, 67, 0.15);\n",
              "    fill: var(--button-hover-fill-color);\n",
              "  }\n",
              "\n",
              "  .colab-df-quickchart-complete:disabled,\n",
              "  .colab-df-quickchart-complete:disabled:hover {\n",
              "    background-color: var(--disabled-bg-color);\n",
              "    fill: var(--disabled-fill-color);\n",
              "    box-shadow: none;\n",
              "  }\n",
              "\n",
              "  .colab-df-spinner {\n",
              "    border: 2px solid var(--fill-color);\n",
              "    border-color: transparent;\n",
              "    border-bottom-color: var(--fill-color);\n",
              "    animation:\n",
              "      spin 1s steps(1) infinite;\n",
              "  }\n",
              "\n",
              "  @keyframes spin {\n",
              "    0% {\n",
              "      border-color: transparent;\n",
              "      border-bottom-color: var(--fill-color);\n",
              "      border-left-color: var(--fill-color);\n",
              "    }\n",
              "    20% {\n",
              "      border-color: transparent;\n",
              "      border-left-color: var(--fill-color);\n",
              "      border-top-color: var(--fill-color);\n",
              "    }\n",
              "    30% {\n",
              "      border-color: transparent;\n",
              "      border-left-color: var(--fill-color);\n",
              "      border-top-color: var(--fill-color);\n",
              "      border-right-color: var(--fill-color);\n",
              "    }\n",
              "    40% {\n",
              "      border-color: transparent;\n",
              "      border-right-color: var(--fill-color);\n",
              "      border-top-color: var(--fill-color);\n",
              "    }\n",
              "    60% {\n",
              "      border-color: transparent;\n",
              "      border-right-color: var(--fill-color);\n",
              "    }\n",
              "    80% {\n",
              "      border-color: transparent;\n",
              "      border-right-color: var(--fill-color);\n",
              "      border-bottom-color: var(--fill-color);\n",
              "    }\n",
              "    90% {\n",
              "      border-color: transparent;\n",
              "      border-bottom-color: var(--fill-color);\n",
              "    }\n",
              "  }\n",
              "</style>\n",
              "\n",
              "      <script>\n",
              "        async function quickchart(key) {\n",
              "          const quickchartButtonEl =\n",
              "            document.querySelector('#' + key + ' button');\n",
              "          quickchartButtonEl.disabled = true;  // To prevent multiple clicks.\n",
              "          quickchartButtonEl.classList.add('colab-df-spinner');\n",
              "          try {\n",
              "            const charts = await google.colab.kernel.invokeFunction(\n",
              "                'suggestCharts', [key], {});\n",
              "          } catch (error) {\n",
              "            console.error('Error during call to suggestCharts:', error);\n",
              "          }\n",
              "          quickchartButtonEl.classList.remove('colab-df-spinner');\n",
              "          quickchartButtonEl.classList.add('colab-df-quickchart-complete');\n",
              "        }\n",
              "        (() => {\n",
              "          let quickchartButtonEl =\n",
              "            document.querySelector('#df-0914ae12-9441-4753-a1cb-b3adfc54bd8c button');\n",
              "          quickchartButtonEl.style.display =\n",
              "            google.colab.kernel.accessAllowed ? 'block' : 'none';\n",
              "        })();\n",
              "      </script>\n",
              "    </div>\n",
              "\n",
              "    </div>\n",
              "  </div>\n"
            ],
            "application/vnd.google.colaboratory.intrinsic+json": {
              "type": "dataframe"
            }
          },
          "metadata": {}
        }
      ],
      "source": [
        "# show the first 5 rows of the dataframe\n",
        "display(data.head())"
      ]
    },
    {
      "cell_type": "code",
      "execution_count": 19,
      "id": "e7ed84ac",
      "metadata": {
        "id": "e7ed84ac",
        "colab": {
          "base_uri": "https://localhost:8080/",
          "height": 34
        },
        "outputId": "207ba1c8-7fdc-482e-83bc-b0803bbf5f1d"
      },
      "outputs": [
        {
          "output_type": "display_data",
          "data": {
            "text/plain": [
              "(42000, 785)"
            ]
          },
          "metadata": {}
        }
      ],
      "source": [
        "# show the data size\n",
        "display(data.shape)"
      ]
    },
    {
      "cell_type": "code",
      "execution_count": 21,
      "id": "1520dda1",
      "metadata": {
        "id": "1520dda1",
        "colab": {
          "base_uri": "https://localhost:8080/",
          "height": 34
        },
        "outputId": "4e599f67-bc19-433f-95ea-8f63c1455ced"
      },
      "outputs": [
        {
          "output_type": "display_data",
          "data": {
            "text/plain": [
              "np.int64(7)"
            ]
          },
          "metadata": {}
        }
      ],
      "source": [
        "# find out the label for row number 50\n",
        "display(data.loc[50, 'label'])"
      ]
    },
    {
      "cell_type": "code",
      "source": [
        "# find out the row number for label 0\n",
        "display(data.loc[0, 'label'])"
      ],
      "metadata": {
        "id": "cxzcExN0T1PW",
        "colab": {
          "base_uri": "https://localhost:8080/",
          "height": 34
        },
        "outputId": "fe097174-442d-4962-cf90-e4a940d8ccd2"
      },
      "id": "cxzcExN0T1PW",
      "execution_count": 22,
      "outputs": [
        {
          "output_type": "display_data",
          "data": {
            "text/plain": [
              "np.int64(1)"
            ]
          },
          "metadata": {}
        }
      ]
    },
    {
      "cell_type": "code",
      "source": [
        "# find out the row number for label 1\n",
        "display(data.loc[1, 'label'])"
      ],
      "metadata": {
        "id": "nilA09TxUPUU",
        "colab": {
          "base_uri": "https://localhost:8080/",
          "height": 34
        },
        "outputId": "cda268b7-e174-40d2-da49-97fd592d7ea0"
      },
      "id": "nilA09TxUPUU",
      "execution_count": 23,
      "outputs": [
        {
          "output_type": "display_data",
          "data": {
            "text/plain": [
              "np.int64(0)"
            ]
          },
          "metadata": {}
        }
      ]
    },
    {
      "cell_type": "code",
      "source": [
        "# find out the row number for label 2\n",
        "display(data.loc[2, 'label'])"
      ],
      "metadata": {
        "id": "pNLejMHkUPhR",
        "colab": {
          "base_uri": "https://localhost:8080/",
          "height": 34
        },
        "outputId": "e38421d2-7e63-408b-8e38-59204b07d910"
      },
      "id": "pNLejMHkUPhR",
      "execution_count": 24,
      "outputs": [
        {
          "output_type": "display_data",
          "data": {
            "text/plain": [
              "np.int64(1)"
            ]
          },
          "metadata": {}
        }
      ]
    },
    {
      "cell_type": "code",
      "source": [
        "# find out the row number for label 3, 4, 5, 6, 7, 8 and 9\n",
        "display(data.loc[3, 'label'])\n",
        "display(data.loc[4, 'label'])\n",
        "display(data.loc[5, 'label'])\n",
        "display(data.loc[6, 'label'])\n",
        "display(data.loc[7, 'label'])\n",
        "display(data.loc[8, 'label'])\n",
        "display(data.loc[9, 'label'])"
      ],
      "metadata": {
        "id": "_nCgAlalUJi1",
        "colab": {
          "base_uri": "https://localhost:8080/",
          "height": 139
        },
        "outputId": "9458333b-a5eb-423c-fc29-3b7c8eebc888"
      },
      "id": "_nCgAlalUJi1",
      "execution_count": 26,
      "outputs": [
        {
          "output_type": "display_data",
          "data": {
            "text/plain": [
              "np.int64(4)"
            ]
          },
          "metadata": {}
        },
        {
          "output_type": "display_data",
          "data": {
            "text/plain": [
              "np.int64(0)"
            ]
          },
          "metadata": {}
        },
        {
          "output_type": "display_data",
          "data": {
            "text/plain": [
              "np.int64(0)"
            ]
          },
          "metadata": {}
        },
        {
          "output_type": "display_data",
          "data": {
            "text/plain": [
              "np.int64(7)"
            ]
          },
          "metadata": {}
        },
        {
          "output_type": "display_data",
          "data": {
            "text/plain": [
              "np.int64(3)"
            ]
          },
          "metadata": {}
        },
        {
          "output_type": "display_data",
          "data": {
            "text/plain": [
              "np.int64(5)"
            ]
          },
          "metadata": {}
        },
        {
          "output_type": "display_data",
          "data": {
            "text/plain": [
              "np.int64(3)"
            ]
          },
          "metadata": {}
        }
      ]
    },
    {
      "cell_type": "code",
      "execution_count": 27,
      "id": "d1940115",
      "metadata": {
        "id": "d1940115",
        "colab": {
          "base_uri": "https://localhost:8080/"
        },
        "outputId": "d6003745-ff0f-4a13-d6a9-b77a095ebc02"
      },
      "outputs": [
        {
          "output_type": "execute_result",
          "data": {
            "text/plain": [
              "['magma',\n",
              " 'inferno',\n",
              " 'plasma',\n",
              " 'viridis',\n",
              " 'cividis',\n",
              " 'twilight',\n",
              " 'twilight_shifted',\n",
              " 'turbo',\n",
              " 'berlin',\n",
              " 'managua',\n",
              " 'vanimo',\n",
              " 'Blues',\n",
              " 'BrBG',\n",
              " 'BuGn',\n",
              " 'BuPu',\n",
              " 'CMRmap',\n",
              " 'GnBu',\n",
              " 'Greens',\n",
              " 'Greys',\n",
              " 'OrRd',\n",
              " 'Oranges',\n",
              " 'PRGn',\n",
              " 'PiYG',\n",
              " 'PuBu',\n",
              " 'PuBuGn',\n",
              " 'PuOr',\n",
              " 'PuRd',\n",
              " 'Purples',\n",
              " 'RdBu',\n",
              " 'RdGy',\n",
              " 'RdPu',\n",
              " 'RdYlBu',\n",
              " 'RdYlGn',\n",
              " 'Reds',\n",
              " 'Spectral',\n",
              " 'Wistia',\n",
              " 'YlGn',\n",
              " 'YlGnBu',\n",
              " 'YlOrBr',\n",
              " 'YlOrRd',\n",
              " 'afmhot',\n",
              " 'autumn',\n",
              " 'binary',\n",
              " 'bone',\n",
              " 'brg',\n",
              " 'bwr',\n",
              " 'cool',\n",
              " 'coolwarm',\n",
              " 'copper',\n",
              " 'cubehelix',\n",
              " 'flag',\n",
              " 'gist_earth',\n",
              " 'gist_gray',\n",
              " 'gist_heat',\n",
              " 'gist_ncar',\n",
              " 'gist_rainbow',\n",
              " 'gist_stern',\n",
              " 'gist_yarg',\n",
              " 'gnuplot',\n",
              " 'gnuplot2',\n",
              " 'gray',\n",
              " 'hot',\n",
              " 'hsv',\n",
              " 'jet',\n",
              " 'nipy_spectral',\n",
              " 'ocean',\n",
              " 'pink',\n",
              " 'prism',\n",
              " 'rainbow',\n",
              " 'seismic',\n",
              " 'spring',\n",
              " 'summer',\n",
              " 'terrain',\n",
              " 'winter',\n",
              " 'Accent',\n",
              " 'Dark2',\n",
              " 'Paired',\n",
              " 'Pastel1',\n",
              " 'Pastel2',\n",
              " 'Set1',\n",
              " 'Set2',\n",
              " 'Set3',\n",
              " 'tab10',\n",
              " 'tab20',\n",
              " 'tab20b',\n",
              " 'tab20c',\n",
              " 'grey',\n",
              " 'gist_grey',\n",
              " 'gist_yerg',\n",
              " 'Grays',\n",
              " 'magma_r',\n",
              " 'inferno_r',\n",
              " 'plasma_r',\n",
              " 'viridis_r',\n",
              " 'cividis_r',\n",
              " 'twilight_r',\n",
              " 'twilight_shifted_r',\n",
              " 'turbo_r',\n",
              " 'berlin_r',\n",
              " 'managua_r',\n",
              " 'vanimo_r',\n",
              " 'Blues_r',\n",
              " 'BrBG_r',\n",
              " 'BuGn_r',\n",
              " 'BuPu_r',\n",
              " 'CMRmap_r',\n",
              " 'GnBu_r',\n",
              " 'Greens_r',\n",
              " 'Greys_r',\n",
              " 'OrRd_r',\n",
              " 'Oranges_r',\n",
              " 'PRGn_r',\n",
              " 'PiYG_r',\n",
              " 'PuBu_r',\n",
              " 'PuBuGn_r',\n",
              " 'PuOr_r',\n",
              " 'PuRd_r',\n",
              " 'Purples_r',\n",
              " 'RdBu_r',\n",
              " 'RdGy_r',\n",
              " 'RdPu_r',\n",
              " 'RdYlBu_r',\n",
              " 'RdYlGn_r',\n",
              " 'Reds_r',\n",
              " 'Spectral_r',\n",
              " 'Wistia_r',\n",
              " 'YlGn_r',\n",
              " 'YlGnBu_r',\n",
              " 'YlOrBr_r',\n",
              " 'YlOrRd_r',\n",
              " 'afmhot_r',\n",
              " 'autumn_r',\n",
              " 'binary_r',\n",
              " 'bone_r',\n",
              " 'brg_r',\n",
              " 'bwr_r',\n",
              " 'cool_r',\n",
              " 'coolwarm_r',\n",
              " 'copper_r',\n",
              " 'cubehelix_r',\n",
              " 'flag_r',\n",
              " 'gist_earth_r',\n",
              " 'gist_gray_r',\n",
              " 'gist_heat_r',\n",
              " 'gist_ncar_r',\n",
              " 'gist_rainbow_r',\n",
              " 'gist_stern_r',\n",
              " 'gist_yarg_r',\n",
              " 'gnuplot_r',\n",
              " 'gnuplot2_r',\n",
              " 'gray_r',\n",
              " 'hot_r',\n",
              " 'hsv_r',\n",
              " 'jet_r',\n",
              " 'nipy_spectral_r',\n",
              " 'ocean_r',\n",
              " 'pink_r',\n",
              " 'prism_r',\n",
              " 'rainbow_r',\n",
              " 'seismic_r',\n",
              " 'spring_r',\n",
              " 'summer_r',\n",
              " 'terrain_r',\n",
              " 'winter_r',\n",
              " 'Accent_r',\n",
              " 'Dark2_r',\n",
              " 'Paired_r',\n",
              " 'Pastel1_r',\n",
              " 'Pastel2_r',\n",
              " 'Set1_r',\n",
              " 'Set2_r',\n",
              " 'Set3_r',\n",
              " 'tab10_r',\n",
              " 'tab20_r',\n",
              " 'tab20b_r',\n",
              " 'tab20c_r',\n",
              " 'grey_r',\n",
              " 'gist_grey_r',\n",
              " 'gist_yerg_r',\n",
              " 'Grays_r']"
            ]
          },
          "metadata": {},
          "execution_count": 27
        }
      ],
      "source": [
        "# list of colormaps()\n",
        "plt.colormaps()"
      ]
    },
    {
      "cell_type": "code",
      "execution_count": 28,
      "id": "cfbf83ee",
      "metadata": {
        "id": "cfbf83ee",
        "colab": {
          "base_uri": "https://localhost:8080/",
          "height": 454
        },
        "outputId": "4aedbbfc-b094-47cf-8ef4-1dca3adf9428"
      },
      "outputs": [
        {
          "output_type": "display_data",
          "data": {
            "text/plain": [
              "<Figure size 640x480 with 0 Axes>"
            ]
          },
          "metadata": {}
        },
        {
          "output_type": "display_data",
          "data": {
            "text/plain": [
              "<Figure size 480x480 with 1 Axes>"
            ],
            "image/png": "[encoded data removed]"
          },
          "metadata": {}
        }
      ],
      "source": [
        "## visualize the label in the first column\n",
        "plt.gray()\n",
        "plt.matshow(data.iloc[50,1:].values.reshape(28,28))\n",
        "plt.show()"
      ]
    },
    {
      "cell_type": "code",
      "execution_count": 52,
      "id": "7f396d60",
      "metadata": {
        "id": "7f396d60",
        "colab": {
          "base_uri": "https://localhost:8080/",
          "height": 454
        },
        "outputId": "ce2162ba-b596-4593-efd9-7fb70dcc987d"
      },
      "outputs": [
        {
          "output_type": "display_data",
          "data": {
            "text/plain": [
              "<Figure size 640x480 with 0 Axes>"
            ]
          },
          "metadata": {}
        },
        {
          "output_type": "display_data",
          "data": {
            "text/plain": [
              "<Figure size 480x480 with 1 Axes>"
            ],
            "image/png": "[encoded data removed]"
          },
          "metadata": {}
        }
      ],
      "source": [
        "## visualize the label for image number 3\n",
        "plt.cool()\n",
        "plt.matshow(data.iloc[9,1:].values.reshape(28,28))\n",
        "plt.show()"
      ]
    },
    {
      "cell_type": "code",
      "execution_count": 53,
      "id": "a42d2bee",
      "metadata": {
        "id": "a42d2bee"
      },
      "outputs": [],
      "source": [
        "# Display numbers 0 to 9 in different colors\n"
      ]
    },
    {
      "cell_type": "code",
      "execution_count": 54,
      "id": "d6949541",
      "metadata": {
        "id": "d6949541",
        "colab": {
          "base_uri": "https://localhost:8080/",
          "height": 454
        },
        "outputId": "58f43aac-fd97-452e-ac1d-b182e2171a6e"
      },
      "outputs": [
        {
          "output_type": "display_data",
          "data": {
            "text/plain": [
              "<Figure size 640x480 with 0 Axes>"
            ]
          },
          "metadata": {}
        },
        {
          "output_type": "display_data",
          "data": {
            "text/plain": [
              "<Figure size 480x480 with 1 Axes>"
            ],
            "image/png": "[encoded data removed]"
          },
          "metadata": {}
        }
      ],
      "source": [
        "#0\n",
        "plt.hot()\n",
        "plt.matshow(data.iloc[5,1:].values.reshape(28,28))\n",
        "plt.show()"
      ]
    },
    {
      "cell_type": "code",
      "execution_count": 57,
      "id": "44d4ac64",
      "metadata": {
        "id": "44d4ac64",
        "colab": {
          "base_uri": "https://localhost:8080/",
          "height": 437
        },
        "outputId": "58a8c063-e817-4995-d267-e5eb830b1b06"
      },
      "outputs": [
        {
          "output_type": "display_data",
          "data": {
            "text/plain": [
              "<Figure size 480x480 with 1 Axes>"
            ],
            "image/png": "[encoded data removed]"
          },
          "metadata": {}
        }
      ],
      "source": [
        "#1\n",
        "plt.matshow(data.iloc[0,1:].values.reshape(28,28),  cmap=\"autumn_r\")\n",
        "plt.show()"
      ]
    },
    {
      "cell_type": "code",
      "execution_count": 59,
      "id": "77a4ae6c",
      "metadata": {
        "id": "77a4ae6c",
        "colab": {
          "base_uri": "https://localhost:8080/",
          "height": 437
        },
        "outputId": "72f4e55d-7f22-4f23-f5db-6c08e5a00f70"
      },
      "outputs": [
        {
          "output_type": "display_data",
          "data": {
            "text/plain": [
              "<Figure size 480x480 with 1 Axes>"
            ],
            "image/png": "[encoded data removed]"
          },
          "metadata": {}
        }
      ],
      "source": [
        "#2\n",
        "plt.matshow(data.iloc[16,1:].values.reshape(28,28), cmap=\"tab20c_r\")\n",
        "plt.show()"
      ]
    },
    {
      "cell_type": "code",
      "execution_count": 60,
      "id": "b90daf72",
      "metadata": {
        "id": "b90daf72",
        "colab": {
          "base_uri": "https://localhost:8080/",
          "height": 437
        },
        "outputId": "bea075c7-450e-4774-a066-34c7b207a2d2"
      },
      "outputs": [
        {
          "output_type": "display_data",
          "data": {
            "text/plain": [
              "<Figure size 480x480 with 1 Axes>"
            ],
            "image/png": "[encoded data removed]"
          },
          "metadata": {}
        }
      ],
      "source": [
        "#3\n",
        "plt.matshow(data.iloc[14,1:].values.reshape(28,28), cmap=\"YlOrRd_r\")\n",
        "plt.show()"
      ]
    },
    {
      "cell_type": "code",
      "execution_count": 61,
      "id": "d0c3ae5b",
      "metadata": {
        "id": "d0c3ae5b",
        "colab": {
          "base_uri": "https://localhost:8080/",
          "height": 437
        },
        "outputId": "3546b827-e65d-4fbb-e5b7-6cbb5c01caf9"
      },
      "outputs": [
        {
          "output_type": "display_data",
          "data": {
            "text/plain": [
              "<Figure size 480x480 with 1 Axes>"
            ],
            "image/png": "[encoded data removed]"
          },
          "metadata": {}
        }
      ],
      "source": [
        "#4\n",
        "plt.matshow(data.iloc[3,1:].values.reshape(28,28), cmap=\"Spectral_r\")\n",
        "plt.show()"
      ]
    },
    {
      "cell_type": "code",
      "execution_count": 68,
      "id": "2cf306a7",
      "metadata": {
        "id": "2cf306a7",
        "colab": {
          "base_uri": "https://localhost:8080/",
          "height": 437
        },
        "outputId": "322228cf-982a-4d23-a506-e9c80a9246f4"
      },
      "outputs": [
        {
          "output_type": "display_data",
          "data": {
            "text/plain": [
              "<Figure size 480x480 with 1 Axes>"
            ],
            "image/png": "[encoded data removed]"
          },
          "metadata": {}
        }
      ],
      "source": [
        "#5\n",
        "plt.matshow(data.iloc[8,1:].values.reshape(28,28), cmap=\"rainbow_r\")\n",
        "plt.show()"
      ]
    },
    {
      "cell_type": "code",
      "execution_count": 69,
      "id": "e5af9df0",
      "metadata": {
        "id": "e5af9df0",
        "colab": {
          "base_uri": "https://localhost:8080/",
          "height": 437
        },
        "outputId": "c03513c5-6005-4485-8aa0-3150c970b096"
      },
      "outputs": [
        {
          "output_type": "display_data",
          "data": {
            "text/plain": [
              "<Figure size 480x480 with 1 Axes>"
            ],
            "image/png": "[encoded data removed]"
          },
          "metadata": {}
        }
      ],
      "source": [
        "#6\n",
        "plt.matshow(data.iloc[21,1:].values.reshape(28,28), cmap=\"Accent_r\")\n",
        "plt.show()"
      ]
    },
    {
      "cell_type": "code",
      "execution_count": 70,
      "id": "bcf95417",
      "metadata": {
        "id": "bcf95417",
        "colab": {
          "base_uri": "https://localhost:8080/",
          "height": 437
        },
        "outputId": "fe467b2c-7aba-4735-c58b-f882d9e7b808"
      },
      "outputs": [
        {
          "output_type": "display_data",
          "data": {
            "text/plain": [
              "<Figure size 480x480 with 1 Axes>"
            ],
            "image/png": "[encoded data removed]"
          },
          "metadata": {}
        }
      ],
      "source": [
        "#7\n",
        "plt.matshow(data.iloc[6,1:].values.reshape(28,28), cmap=\"YlGnBu_r\")\n",
        "plt.show()"
      ]
    },
    {
      "cell_type": "code",
      "execution_count": 71,
      "id": "03ab05be",
      "metadata": {
        "id": "03ab05be",
        "colab": {
          "base_uri": "https://localhost:8080/",
          "height": 437
        },
        "outputId": "95662f06-9f24-47bb-9a47-96dd88497097"
      },
      "outputs": [
        {
          "output_type": "display_data",
          "data": {
            "text/plain": [
              "<Figure size 480x480 with 1 Axes>"
            ],
            "image/png": "[encoded data removed]"
          },
          "metadata": {}
        }
      ],
      "source": [
        "#8\n",
        "plt.matshow(data.iloc[10,1:].values.reshape(28,28), cmap=\"bwr_r\")\n",
        "plt.show()"
      ]
    },
    {
      "cell_type": "code",
      "execution_count": 72,
      "id": "8eef1f71",
      "metadata": {
        "id": "8eef1f71",
        "colab": {
          "base_uri": "https://localhost:8080/",
          "height": 437
        },
        "outputId": "c263100e-c579-4d8e-ab83-cfa5c9ecc780"
      },
      "outputs": [
        {
          "output_type": "display_data",
          "data": {
            "text/plain": [
              "<Figure size 480x480 with 1 Axes>"
            ],
            "image/png": "[encoded data removed]"
          },
          "metadata": {}
        }
      ],
      "source": [
        "#9\n",
        "plt.matshow(data.iloc[11,1:].values.reshape(28,28), cmap=\"Wistia_r\")\n",
        "plt.show()"
      ]
    },
    {
      "cell_type": "code",
      "source": [],
      "metadata": {
        "id": "9DmKlQwAs6ua"
      },
      "id": "9DmKlQwAs6ua",
      "execution_count": null,
      "outputs": []
    }
  ],
  "metadata": {
    "kernelspec": {
      "display_name": "Python 3 (ipykernel)",
      "language": "python",
      "name": "python3"
    },
    "language_info": {
      "codemirror_mode": {
        "name": "ipython",
        "version": 3
      },
      "file_extension": ".py",
      "mimetype": "text/x-python",
      "name": "python",
      "nbconvert_exporter": "python",
      "pygments_lexer": "ipython3",
      "version": "3.11.3"
    },
    "colab": {
      "provenance": []
    }
  },
  "nbformat": 4,
  "nbformat_minor": 5
}