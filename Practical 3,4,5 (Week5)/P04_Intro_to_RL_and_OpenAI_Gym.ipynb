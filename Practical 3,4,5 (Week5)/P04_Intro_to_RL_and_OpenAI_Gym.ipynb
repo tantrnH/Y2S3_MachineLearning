{
  "nbformat": 4,
  "nbformat_minor": 0,
  "metadata": {
    "colab": {
      "provenance": []
    },
    "kernelspec": {
      "name": "python3",
      "display_name": "Python 3"
    },
    "language_info": {
      "name": "python"
    }
  },
  "cells": [
    {
      "cell_type": "markdown",
      "source": [
        "## **Introduction to Reinforcement Learning and OpenAI Gym**"
      ],
      "metadata": {
        "id": "Vp9nH70ubV6b"
      }
    },
    {
      "cell_type": "markdown",
      "source": [
        "https://www.gymlibrary.dev\n",
        "\n",
        "https://gymnasium.farama.org"
      ],
      "metadata": {
        "id": "bx3wL4FEbX-1"
      }
    },
    {
      "cell_type": "markdown",
      "source": [
        "- We use OpenAI Gym to create the CartPole environment.\n",
        "- The agent takes random actions and interacts with the environment.\n",
        "- We observe the number of steps before the episode ends."
      ],
      "metadata": {
        "id": "Do62JGZObXj5"
      }
    },
    {
      "cell_type": "code",
      "execution_count": 2,
      "metadata": {
        "id": "EGHofaGULY-t",
        "colab": {
          "base_uri": "https://localhost:8080/"
        },
        "outputId": "7fd56f8b-ced0-4b42-92ea-bd8c42c8e0df"
      },
      "outputs": [
        {
          "output_type": "stream",
          "name": "stdout",
          "text": [
            "Requirement already satisfied: gym==0.26.0 in /usr/local/lib/python3.11/dist-packages (0.26.0)\n",
            "Requirement already satisfied: numpy>=1.18.0 in /usr/local/lib/python3.11/dist-packages (from gym==0.26.0) (1.23.5)\n",
            "Requirement already satisfied: cloudpickle>=1.2.0 in /usr/local/lib/python3.11/dist-packages (from gym==0.26.0) (3.1.1)\n",
            "Requirement already satisfied: gym_notices>=0.0.4 in /usr/local/lib/python3.11/dist-packages (from gym==0.26.0) (0.0.8)\n",
            "Episode 1 finished after 12 timesteps\n",
            "Episode 2 finished after 16 timesteps\n",
            "Episode 3 finished after 9 timesteps\n",
            "Episode 4 finished after 14 timesteps\n",
            "Episode 5 finished after 19 timesteps\n"
          ]
        }
      ],
      "source": [
        "# we use OpenAI Gym to create the CartPole environment.\n",
        "# the agent takes random actions and interacts with the environment.\n",
        "# we observe the number of steps before the episode ends.\n",
        "\n",
        "# Step 1: Install OpenAI Gym (installing a specific version to avoid potential compatibility issues)\n",
        "!pip install gym==0.26.0\n",
        "\n",
        "# Step 2: Import required libraries\n",
        "import gym\n",
        "import numpy as np\n",
        "\n",
        "# Step 3: Create and initialize the CartPole environment\n",
        "env = gym.make(\"CartPole-v1\")\n",
        "# Correcting the typo from env.rest() to env.reset()\n",
        "env.reset()\n",
        "total_episodes = 5  # Number of episodes to run / number of output\n",
        "\n",
        "for episode in range(total_episodes):\n",
        "    # Correcting the typo from env.rest() to env.reset()\n",
        "    state = env.reset()\n",
        "    done = False\n",
        "    step_count = 0\n",
        "\n",
        "    # In newer versions of gym/gymnasium, step returns 5 values\n",
        "    # (observation, reward, terminated, truncated, info)\n",
        "    while not done:\n",
        "        # env.render()  # Render the environment - uncomment if you have a display setup\n",
        "        action = env.action_space.sample()  # Take a random action\n",
        "        state, reward, terminated, truncated, info = env.step(action)\n",
        "        done = terminated or truncated # Episode is done if terminated or truncated\n",
        "        step_count += 1\n",
        "\n",
        "    print(f\"Episode {episode+1} finished after {step_count} timesteps\")\n",
        "\n",
        "env.close()"
      ]
    },
    {
      "cell_type": "markdown",
      "source": [
        "## **Exercise:**\n",
        "\n",
        "Task: Modify the code to print the state, action, and reward at each step.\n",
        "\n",
        "Hint: Add print statements inside the while loop to track the agent's interaction."
      ],
      "metadata": {
        "id": "GMoEKV-sduMT"
      }
    }
  ]
}